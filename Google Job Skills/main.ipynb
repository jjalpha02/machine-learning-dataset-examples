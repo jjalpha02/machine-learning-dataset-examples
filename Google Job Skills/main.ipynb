{
 "cells": [
  {
   "cell_type": "code",
   "execution_count": 23,
   "metadata": {},
   "outputs": [
    {
     "name": "stdout",
     "output_type": "stream",
     "text": [
      "<class 'pandas.core.frame.DataFrame'>\n",
      "RangeIndex: 1250 entries, 0 to 1249\n",
      "Data columns (total 7 columns):\n",
      " #   Column                    Non-Null Count  Dtype \n",
      "---  ------                    --------------  ----- \n",
      " 0   Company                   1250 non-null   object\n",
      " 1   Title                     1250 non-null   object\n",
      " 2   Category                  1250 non-null   object\n",
      " 3   Location                  1250 non-null   object\n",
      " 4   Responsibilities          1235 non-null   object\n",
      " 5   Minimum Qualifications    1236 non-null   object\n",
      " 6   Preferred Qualifications  1236 non-null   object\n",
      "dtypes: object(7)\n",
      "memory usage: 68.5+ KB\n"
     ]
    },
    {
     "ename": "TypeError",
     "evalue": "'value' must be an instance of str or bytes, not a float",
     "output_type": "error",
     "traceback": [
      "\u001b[1;31m---------------------------------------------------------------------------\u001b[0m",
      "\u001b[1;31mTypeError\u001b[0m                                 Traceback (most recent call last)",
      "\u001b[1;32mc:\\Users\\Utilisateur\\Documents\\Projects\\Machine Learning\\Google Job Skills\\main.ipynb Cellule 1\u001b[0m in \u001b[0;36m<cell line: 21>\u001b[1;34m()\u001b[0m\n\u001b[0;32m     <a href='vscode-notebook-cell:/c%3A/Users/Utilisateur/Documents/Projects/Machine%20Learning/Google%20Job%20Skills/main.ipynb#W0sZmlsZQ%3D%3D?line=18'>19</a>\u001b[0m axes \u001b[39m=\u001b[39m plt\u001b[39m.\u001b[39maxes()\n\u001b[0;32m     <a href='vscode-notebook-cell:/c%3A/Users/Utilisateur/Documents/Projects/Machine%20Learning/Google%20Job%20Skills/main.ipynb#W0sZmlsZQ%3D%3D?line=19'>20</a>\u001b[0m axes\u001b[39m.\u001b[39mgrid()\n\u001b[1;32m---> <a href='vscode-notebook-cell:/c%3A/Users/Utilisateur/Documents/Projects/Machine%20Learning/Google%20Job%20Skills/main.ipynb#W0sZmlsZQ%3D%3D?line=20'>21</a>\u001b[0m plt\u001b[39m.\u001b[39;49mscatter(X,Y)\n\u001b[0;32m     <a href='vscode-notebook-cell:/c%3A/Users/Utilisateur/Documents/Projects/Machine%20Learning/Google%20Job%20Skills/main.ipynb#W0sZmlsZQ%3D%3D?line=21'>22</a>\u001b[0m plt\u001b[39m.\u001b[39mshow\n",
      "File \u001b[1;32mc:\\Users\\Utilisateur\\anaconda3\\lib\\site-packages\\matplotlib\\pyplot.py:2807\u001b[0m, in \u001b[0;36mscatter\u001b[1;34m(x, y, s, c, marker, cmap, norm, vmin, vmax, alpha, linewidths, edgecolors, plotnonfinite, data, **kwargs)\u001b[0m\n\u001b[0;32m   2802\u001b[0m \u001b[39m@_copy_docstring_and_deprecators\u001b[39m(Axes\u001b[39m.\u001b[39mscatter)\n\u001b[0;32m   2803\u001b[0m \u001b[39mdef\u001b[39;00m \u001b[39mscatter\u001b[39m(\n\u001b[0;32m   2804\u001b[0m         x, y, s\u001b[39m=\u001b[39m\u001b[39mNone\u001b[39;00m, c\u001b[39m=\u001b[39m\u001b[39mNone\u001b[39;00m, marker\u001b[39m=\u001b[39m\u001b[39mNone\u001b[39;00m, cmap\u001b[39m=\u001b[39m\u001b[39mNone\u001b[39;00m, norm\u001b[39m=\u001b[39m\u001b[39mNone\u001b[39;00m,\n\u001b[0;32m   2805\u001b[0m         vmin\u001b[39m=\u001b[39m\u001b[39mNone\u001b[39;00m, vmax\u001b[39m=\u001b[39m\u001b[39mNone\u001b[39;00m, alpha\u001b[39m=\u001b[39m\u001b[39mNone\u001b[39;00m, linewidths\u001b[39m=\u001b[39m\u001b[39mNone\u001b[39;00m, \u001b[39m*\u001b[39m,\n\u001b[0;32m   2806\u001b[0m         edgecolors\u001b[39m=\u001b[39m\u001b[39mNone\u001b[39;00m, plotnonfinite\u001b[39m=\u001b[39m\u001b[39mFalse\u001b[39;00m, data\u001b[39m=\u001b[39m\u001b[39mNone\u001b[39;00m, \u001b[39m*\u001b[39m\u001b[39m*\u001b[39mkwargs):\n\u001b[1;32m-> 2807\u001b[0m     __ret \u001b[39m=\u001b[39m gca()\u001b[39m.\u001b[39mscatter(\n\u001b[0;32m   2808\u001b[0m         x, y, s\u001b[39m=\u001b[39ms, c\u001b[39m=\u001b[39mc, marker\u001b[39m=\u001b[39mmarker, cmap\u001b[39m=\u001b[39mcmap, norm\u001b[39m=\u001b[39mnorm,\n\u001b[0;32m   2809\u001b[0m         vmin\u001b[39m=\u001b[39mvmin, vmax\u001b[39m=\u001b[39mvmax, alpha\u001b[39m=\u001b[39malpha, linewidths\u001b[39m=\u001b[39mlinewidths,\n\u001b[0;32m   2810\u001b[0m         edgecolors\u001b[39m=\u001b[39medgecolors, plotnonfinite\u001b[39m=\u001b[39mplotnonfinite,\n\u001b[0;32m   2811\u001b[0m         \u001b[39m*\u001b[39m\u001b[39m*\u001b[39m({\u001b[39m\"\u001b[39m\u001b[39mdata\u001b[39m\u001b[39m\"\u001b[39m: data} \u001b[39mif\u001b[39;00m data \u001b[39mis\u001b[39;00m \u001b[39mnot\u001b[39;00m \u001b[39mNone\u001b[39;00m \u001b[39melse\u001b[39;00m {}), \u001b[39m*\u001b[39m\u001b[39m*\u001b[39mkwargs)\n\u001b[0;32m   2812\u001b[0m     sci(__ret)\n\u001b[0;32m   2813\u001b[0m     \u001b[39mreturn\u001b[39;00m __ret\n",
      "File \u001b[1;32mc:\\Users\\Utilisateur\\anaconda3\\lib\\site-packages\\matplotlib\\__init__.py:1412\u001b[0m, in \u001b[0;36m_preprocess_data.<locals>.inner\u001b[1;34m(ax, data, *args, **kwargs)\u001b[0m\n\u001b[0;32m   1409\u001b[0m \u001b[39m@functools\u001b[39m\u001b[39m.\u001b[39mwraps(func)\n\u001b[0;32m   1410\u001b[0m \u001b[39mdef\u001b[39;00m \u001b[39minner\u001b[39m(ax, \u001b[39m*\u001b[39margs, data\u001b[39m=\u001b[39m\u001b[39mNone\u001b[39;00m, \u001b[39m*\u001b[39m\u001b[39m*\u001b[39mkwargs):\n\u001b[0;32m   1411\u001b[0m     \u001b[39mif\u001b[39;00m data \u001b[39mis\u001b[39;00m \u001b[39mNone\u001b[39;00m:\n\u001b[1;32m-> 1412\u001b[0m         \u001b[39mreturn\u001b[39;00m func(ax, \u001b[39m*\u001b[39m\u001b[39mmap\u001b[39m(sanitize_sequence, args), \u001b[39m*\u001b[39m\u001b[39m*\u001b[39mkwargs)\n\u001b[0;32m   1414\u001b[0m     bound \u001b[39m=\u001b[39m new_sig\u001b[39m.\u001b[39mbind(ax, \u001b[39m*\u001b[39margs, \u001b[39m*\u001b[39m\u001b[39m*\u001b[39mkwargs)\n\u001b[0;32m   1415\u001b[0m     auto_label \u001b[39m=\u001b[39m (bound\u001b[39m.\u001b[39marguments\u001b[39m.\u001b[39mget(label_namer)\n\u001b[0;32m   1416\u001b[0m                   \u001b[39mor\u001b[39;00m bound\u001b[39m.\u001b[39mkwargs\u001b[39m.\u001b[39mget(label_namer))\n",
      "File \u001b[1;32mc:\\Users\\Utilisateur\\anaconda3\\lib\\site-packages\\matplotlib\\axes\\_axes.py:4363\u001b[0m, in \u001b[0;36mAxes.scatter\u001b[1;34m(self, x, y, s, c, marker, cmap, norm, vmin, vmax, alpha, linewidths, edgecolors, plotnonfinite, **kwargs)\u001b[0m\n\u001b[0;32m   4249\u001b[0m \u001b[39m\"\"\"\u001b[39;00m\n\u001b[0;32m   4250\u001b[0m \u001b[39mA scatter plot of *y* vs. *x* with varying marker size and/or color.\u001b[39;00m\n\u001b[0;32m   4251\u001b[0m \n\u001b[1;32m   (...)\u001b[0m\n\u001b[0;32m   4360\u001b[0m \n\u001b[0;32m   4361\u001b[0m \u001b[39m\"\"\"\u001b[39;00m\n\u001b[0;32m   4362\u001b[0m \u001b[39m# Process **kwargs to handle aliases, conflicts with explicit kwargs:\u001b[39;00m\n\u001b[1;32m-> 4363\u001b[0m x, y \u001b[39m=\u001b[39m \u001b[39mself\u001b[39;49m\u001b[39m.\u001b[39;49m_process_unit_info([(\u001b[39m\"\u001b[39;49m\u001b[39mx\u001b[39;49m\u001b[39m\"\u001b[39;49m, x), (\u001b[39m\"\u001b[39;49m\u001b[39my\u001b[39;49m\u001b[39m\"\u001b[39;49m, y)], kwargs)\n\u001b[0;32m   4364\u001b[0m \u001b[39m# np.ma.ravel yields an ndarray, not a masked array,\u001b[39;00m\n\u001b[0;32m   4365\u001b[0m \u001b[39m# unless its argument is a masked array.\u001b[39;00m\n\u001b[0;32m   4366\u001b[0m x \u001b[39m=\u001b[39m np\u001b[39m.\u001b[39mma\u001b[39m.\u001b[39mravel(x)\n",
      "File \u001b[1;32mc:\\Users\\Utilisateur\\anaconda3\\lib\\site-packages\\matplotlib\\axes\\_base.py:2521\u001b[0m, in \u001b[0;36m_AxesBase._process_unit_info\u001b[1;34m(self, datasets, kwargs, convert)\u001b[0m\n\u001b[0;32m   2519\u001b[0m     \u001b[39m# Update from data if axis is already set but no unit is set yet.\u001b[39;00m\n\u001b[0;32m   2520\u001b[0m     \u001b[39mif\u001b[39;00m axis \u001b[39mis\u001b[39;00m \u001b[39mnot\u001b[39;00m \u001b[39mNone\u001b[39;00m \u001b[39mand\u001b[39;00m data \u001b[39mis\u001b[39;00m \u001b[39mnot\u001b[39;00m \u001b[39mNone\u001b[39;00m \u001b[39mand\u001b[39;00m \u001b[39mnot\u001b[39;00m axis\u001b[39m.\u001b[39mhave_units():\n\u001b[1;32m-> 2521\u001b[0m         axis\u001b[39m.\u001b[39;49mupdate_units(data)\n\u001b[0;32m   2522\u001b[0m \u001b[39mfor\u001b[39;00m axis_name, axis \u001b[39min\u001b[39;00m axis_map\u001b[39m.\u001b[39mitems():\n\u001b[0;32m   2523\u001b[0m     \u001b[39m# Return if no axis is set.\u001b[39;00m\n\u001b[0;32m   2524\u001b[0m     \u001b[39mif\u001b[39;00m axis \u001b[39mis\u001b[39;00m \u001b[39mNone\u001b[39;00m:\n",
      "File \u001b[1;32mc:\\Users\\Utilisateur\\anaconda3\\lib\\site-packages\\matplotlib\\axis.py:1449\u001b[0m, in \u001b[0;36mAxis.update_units\u001b[1;34m(self, data)\u001b[0m\n\u001b[0;32m   1447\u001b[0m neednew \u001b[39m=\u001b[39m \u001b[39mself\u001b[39m\u001b[39m.\u001b[39mconverter \u001b[39m!=\u001b[39m converter\n\u001b[0;32m   1448\u001b[0m \u001b[39mself\u001b[39m\u001b[39m.\u001b[39mconverter \u001b[39m=\u001b[39m converter\n\u001b[1;32m-> 1449\u001b[0m default \u001b[39m=\u001b[39m \u001b[39mself\u001b[39;49m\u001b[39m.\u001b[39;49mconverter\u001b[39m.\u001b[39;49mdefault_units(data, \u001b[39mself\u001b[39;49m)\n\u001b[0;32m   1450\u001b[0m \u001b[39mif\u001b[39;00m default \u001b[39mis\u001b[39;00m \u001b[39mnot\u001b[39;00m \u001b[39mNone\u001b[39;00m \u001b[39mand\u001b[39;00m \u001b[39mself\u001b[39m\u001b[39m.\u001b[39munits \u001b[39mis\u001b[39;00m \u001b[39mNone\u001b[39;00m:\n\u001b[0;32m   1451\u001b[0m     \u001b[39mself\u001b[39m\u001b[39m.\u001b[39mset_units(default)\n",
      "File \u001b[1;32mc:\\Users\\Utilisateur\\anaconda3\\lib\\site-packages\\matplotlib\\category.py:116\u001b[0m, in \u001b[0;36mStrCategoryConverter.default_units\u001b[1;34m(data, axis)\u001b[0m\n\u001b[0;32m    114\u001b[0m \u001b[39m# the conversion call stack is default_units -> axis_info -> convert\u001b[39;00m\n\u001b[0;32m    115\u001b[0m \u001b[39mif\u001b[39;00m axis\u001b[39m.\u001b[39munits \u001b[39mis\u001b[39;00m \u001b[39mNone\u001b[39;00m:\n\u001b[1;32m--> 116\u001b[0m     axis\u001b[39m.\u001b[39mset_units(UnitData(data))\n\u001b[0;32m    117\u001b[0m \u001b[39melse\u001b[39;00m:\n\u001b[0;32m    118\u001b[0m     axis\u001b[39m.\u001b[39munits\u001b[39m.\u001b[39mupdate(data)\n",
      "File \u001b[1;32mc:\\Users\\Utilisateur\\anaconda3\\lib\\site-packages\\matplotlib\\category.py:192\u001b[0m, in \u001b[0;36mUnitData.__init__\u001b[1;34m(self, data)\u001b[0m\n\u001b[0;32m    190\u001b[0m \u001b[39mself\u001b[39m\u001b[39m.\u001b[39m_counter \u001b[39m=\u001b[39m itertools\u001b[39m.\u001b[39mcount()\n\u001b[0;32m    191\u001b[0m \u001b[39mif\u001b[39;00m data \u001b[39mis\u001b[39;00m \u001b[39mnot\u001b[39;00m \u001b[39mNone\u001b[39;00m:\n\u001b[1;32m--> 192\u001b[0m     \u001b[39mself\u001b[39;49m\u001b[39m.\u001b[39;49mupdate(data)\n",
      "File \u001b[1;32mc:\\Users\\Utilisateur\\anaconda3\\lib\\site-packages\\matplotlib\\category.py:227\u001b[0m, in \u001b[0;36mUnitData.update\u001b[1;34m(self, data)\u001b[0m\n\u001b[0;32m    224\u001b[0m convertible \u001b[39m=\u001b[39m \u001b[39mTrue\u001b[39;00m\n\u001b[0;32m    225\u001b[0m \u001b[39mfor\u001b[39;00m val \u001b[39min\u001b[39;00m OrderedDict\u001b[39m.\u001b[39mfromkeys(data):\n\u001b[0;32m    226\u001b[0m     \u001b[39m# OrderedDict just iterates over unique values in data.\u001b[39;00m\n\u001b[1;32m--> 227\u001b[0m     _api\u001b[39m.\u001b[39;49mcheck_isinstance((\u001b[39mstr\u001b[39;49m, \u001b[39mbytes\u001b[39;49m), value\u001b[39m=\u001b[39;49mval)\n\u001b[0;32m    228\u001b[0m     \u001b[39mif\u001b[39;00m convertible:\n\u001b[0;32m    229\u001b[0m         \u001b[39m# this will only be called so long as convertible is True.\u001b[39;00m\n\u001b[0;32m    230\u001b[0m         convertible \u001b[39m=\u001b[39m \u001b[39mself\u001b[39m\u001b[39m.\u001b[39m_str_is_convertible(val)\n",
      "File \u001b[1;32mc:\\Users\\Utilisateur\\anaconda3\\lib\\site-packages\\matplotlib\\_api\\__init__.py:93\u001b[0m, in \u001b[0;36mcheck_isinstance\u001b[1;34m(_types, **kwargs)\u001b[0m\n\u001b[0;32m     91\u001b[0m     names\u001b[39m.\u001b[39mremove(\u001b[39m\"\u001b[39m\u001b[39mNone\u001b[39m\u001b[39m\"\u001b[39m)\n\u001b[0;32m     92\u001b[0m     names\u001b[39m.\u001b[39mappend(\u001b[39m\"\u001b[39m\u001b[39mNone\u001b[39m\u001b[39m\"\u001b[39m)\n\u001b[1;32m---> 93\u001b[0m \u001b[39mraise\u001b[39;00m \u001b[39mTypeError\u001b[39;00m(\n\u001b[0;32m     94\u001b[0m     \u001b[39m\"\u001b[39m\u001b[39m{!r}\u001b[39;00m\u001b[39m must be an instance of \u001b[39m\u001b[39m{}\u001b[39;00m\u001b[39m, not a \u001b[39m\u001b[39m{}\u001b[39;00m\u001b[39m\"\u001b[39m\u001b[39m.\u001b[39mformat(\n\u001b[0;32m     95\u001b[0m         k,\n\u001b[0;32m     96\u001b[0m         \u001b[39m\"\u001b[39m\u001b[39m, \u001b[39m\u001b[39m\"\u001b[39m\u001b[39m.\u001b[39mjoin(names[:\u001b[39m-\u001b[39m\u001b[39m1\u001b[39m]) \u001b[39m+\u001b[39m \u001b[39m\"\u001b[39m\u001b[39m or \u001b[39m\u001b[39m\"\u001b[39m \u001b[39m+\u001b[39m names[\u001b[39m-\u001b[39m\u001b[39m1\u001b[39m]\n\u001b[0;32m     97\u001b[0m         \u001b[39mif\u001b[39;00m \u001b[39mlen\u001b[39m(names) \u001b[39m>\u001b[39m \u001b[39m1\u001b[39m \u001b[39melse\u001b[39;00m names[\u001b[39m0\u001b[39m],\n\u001b[0;32m     98\u001b[0m         type_name(\u001b[39mtype\u001b[39m(v))))\n",
      "\u001b[1;31mTypeError\u001b[0m: 'value' must be an instance of str or bytes, not a float"
     ]
    },
    {
     "data": {
      "image/png": "[encoded data removed]",
      "text/plain": [
       "<Figure size 432x288 with 1 Axes>"
      ]
     },
     "metadata": {
      "needs_background": "light"
     },
     "output_type": "display_data"
    }
   ],
   "source": [
    "import pandas as pd \n",
    "from sklearn import linear_model\n",
    "import matplotlib.pyplot as plt\n",
    "\n",
    "df = pd.read_excel('job_skills.xlsx')\n",
    "#df['Title']\n",
    "# df['Company']\n",
    "df.info()\n",
    "# df['Title']\n",
    "# df['Category']\n",
    "X = df.iloc[0:len(df),1]\n",
    "Y = df.iloc[0:len(df),5]\n",
    "# df['Location']\n",
    "# df['Responsibilities']\n",
    "# df['Minimum Qualifications']\n",
    "# df['Preferred Qualifications']\n",
    "# reg = linear_model.LinearRegression()\n",
    "# lm = reg.fit(df['Category'], df['Preferred Qualifications'])\n",
    "axes = plt.axes()\n",
    "axes.grid()\n",
    "plt.scatter(X,Y)\n",
    "plt.show"
   ]
  }
 ],
 "metadata": {
  "kernelspec": {
   "display_name": "Python 3.9.12 ('base')",
   "language": "python",
   "name": "python3"
  },
  "language_info": {
   "codemirror_mode": {
    "name": "ipython",
    "version": 3
   },
   "file_extension": ".py",
   "mimetype": "text/x-python",
   "name": "python",
   "nbconvert_exporter": "python",
   "pygments_lexer": "ipython3",
   "version": "3.9.12"
  },
  "orig_nbformat": 4,
  "vscode": {
   "interpreter": {
    "hash": "66168a667a11ac16aca0d0d9742c8419f93457ff66115bf85239ea370d417636"
   }
  }
 },
 "nbformat": 4,
 "nbformat_minor": 2
}
